{
  "nbformat": 4,
  "nbformat_minor": 0,
  "metadata": {
    "colab": {
      "name": "‍정재윤[재학 / Global Business & Technology전공] - ch7_homework_RA-2021-student.ipynb",
      "provenance": [],
      "collapsed_sections": [
        "EHsfzpMCIZVV",
        "pUDDFn7eu5u9"
      ],
      "include_colab_link": true
    },
    "kernelspec": {
      "display_name": "Python 3",
      "language": "python",
      "name": "python3"
    },
    "language_info": {
      "codemirror_mode": {
        "name": "ipython",
        "version": 3
      },
      "file_extension": ".py",
      "mimetype": "text/x-python",
      "name": "python",
      "nbconvert_exporter": "python",
      "pygments_lexer": "ipython3",
      "version": "3.7.3"
    }
  },
  "cells": [
    {
      "cell_type": "markdown",
      "metadata": {
        "id": "view-in-github",
        "colab_type": "text"
      },
      "source": [
        "<a href=\"https://colab.research.google.com/github/Againyunn/Database/blob/master/%E2%80%8D%EC%A0%95%EC%9E%AC%EC%9C%A4%5B%EC%9E%AC%ED%95%99_Global_Business_%26_Technology%EC%A0%84%EA%B3%B5%5D_ch7_homework_RA_2021_student.ipynb\" target=\"_parent\"><img src=\"https://colab.research.google.com/assets/colab-badge.svg\" alt=\"Open In Colab\"/></a>"
      ]
    },
    {
      "cell_type": "markdown",
      "metadata": {
        "id": "cGbn68fuu5u8"
      },
      "source": [
        "# Homework 2. Relational Algebra"
      ]
    },
    {
      "cell_type": "markdown",
      "metadata": {
        "id": "ZWPPjDy9IZVT"
      },
      "source": [
        "1. Use Google Colabortory and do your homework.\n",
        "3. (In Google colaboratory) Before you submit your homework, restart kernel and run all the cells.(채점자가 cell을 실행하지 않음)\n",
        "4. Save (File->Save) the file\n",
        "5. Submit your homework (this file) in Google classroom\n",
        "6. **Don't forget to click \"제출\" button** (\"Submit\", \"완료로 표시\", 또는 \"제출\" 버턴을 누르지 않으면 제출된 것이 아님)\n",
        "7. No late homeworks will be accepted for any reason!"
      ]
    },
    {
      "cell_type": "markdown",
      "metadata": {
        "id": "oBDAxmQQIZVU"
      },
      "source": [
        "To edit this cell, double click here\n",
        "```\n",
        "이름:__________정재윤_____________\n",
        "학번:__________201703262_____________\n",
        "학과:__________GBT학부_____________\n",
        "제출일:________21.10.18______________\n",
        "```"
      ]
    },
    {
      "cell_type": "markdown",
      "metadata": {
        "id": "EHsfzpMCIZVV"
      },
      "source": [
        "## CompanyDB Schema\n",
        "\n",
        "### Note that attribute names are capitalized\n",
        "```\n",
        "E(Fname,Minit,Lname,Ssn,Bdate,Address,Sex,Salary,Superssn,Dno)\n",
        "D(Dname,Dnumber,Mgrssn,Mgrstartdate)\n",
        "DL(Dnumber,Dlocation)\n",
        "P(Pname,Pnumber,Plocation,Dnum)\n",
        "WO(Essn,Pno,Hours)\n",
        "DE(Essn,Dependent_name,Sex,Bdate,Relationship)\n",
        "```"
      ]
    },
    {
      "cell_type": "markdown",
      "metadata": {
        "id": "pUDDFn7eu5u9"
      },
      "source": [
        "## First, run the following cell before you do your homework"
      ]
    },
    {
      "cell_type": "markdown",
      "metadata": {
        "id": "P1PmB-Q2u5u9"
      },
      "source": [
        "## DB setup"
      ]
    },
    {
      "cell_type": "code",
      "metadata": {
        "id": "9LZeWDA7u5u-"
      },
      "source": [
        "EMPLOYEE_csv = 'Fname,Minit,Lname,Ssn,Bdate,Address,Sex,Salary,Superssn,Dno\\r\\nJohn,B,Smith,123456789,1965-01-09,731-Fondren-Houston-TX,M,30000.00,333445555,5\\r\\nFranklin,T,Wong,333445555,1955-12-08,638-Voss-Houston-TX,M,40000.00,888665555,5\\r\\nJoyce,A,English,453453453,1972-07-31,5631-Rice-Houston-TX,F,25000.00,333445555,5\\r\\nRamesh,K,Narayan,666884444,1962-09-15,975-Fire-Oak-Humble-TX,M,38000.00,333445555,5\\r\\nJames,E,Borg,888665555,1937-11-10,450-Stone-Houston-TX,M,55000.00,,1\\r\\nJennifer,S,Wallace,987654321,1941-06-20,291-Berry-Bellaire-TX,F,43000.00,888665555,4\\r\\nAhmad,V,Jabbar,987987987,1969-03-29,980-Dallas-Houston-TX,M,25000.00,987654321,4\\r\\nAlicia,J,Zelaya,999887777,1968-01-19,3321-Castle-Spring-TX,F,25000.00,987654321,4\\r\\n'\n",
        "DEPARTMENT_csv = 'Dname,Dnumber,Mgrssn,Mgrstartdate\\r\\nHeadquarters,1,888665555,1981-06-19\\r\\nAdministration,4,987654321,1995-01-01\\r\\nResearch,5,333445555,1988-05-22\\r\\n'\n",
        "DEPT_LOCATIONS_csv = 'Dnumber,Dlocation\\r\\n1,Houston\\r\\n4,Stafford\\r\\n5,Bellaire\\r\\n5,Houston\\r\\n5,Sugarland\\r\\n'\n",
        "PROJECT_csv = 'Pname,Pnumber,Plocation,Dnum\\r\\nProductX,1,Bellaire,5\\r\\nProductY,2,Sugarland,5\\r\\nProductZ,3,Houston,5\\r\\nComputerization,10,Stafford,4\\r\\nReorganization,20,Houston,1\\r\\nNewbenefits,30,Stafford,4\\r\\n'\n",
        "WORKS_ON_csv = 'Essn,Pno,Hours\\r\\n123456789,1,32.5\\r\\n123456789,2,7.5\\r\\n333445555,2,10.0\\r\\n333445555,3,10.0\\r\\n333445555,10,10.0\\r\\n333445555,20,10.0\\r\\n453453453,1,20.0\\r\\n453453453,2,20.0\\r\\n666884444,3,40.0\\r\\n888665555,20,\\r\\n987654321,20,15.0\\r\\n987654321,30,20.0\\r\\n987987987,10,35.0\\r\\n987987987,30,5.0\\r\\n999887777,10,10.0\\r\\n999887777,30,30.0\\r\\n'\n",
        "DEPENDENT_csv = 'Essn,Dependent_name,Sex,Bdate,Relationship\\r\\n123456789,Alice,F,1988-12-30,Daughter\\r\\n123456789,Elizabeth,F,1967-05-05,Spouse\\r\\n123456789,Michael,M,1988-01-04,Son\\r\\n333445555,Alice,F,1986-04-05,Daughter\\r\\n333445555,Joy,F,1958-05-03,Spouse\\r\\n333445555,Theodore,M,1983-10-25,Son\\r\\n987654321,Abner,M,1942-02-28,Spouse\\r\\n'\n",
        "\n",
        "# import packages\n",
        "\n",
        "import pandas as pd\n",
        "from io import StringIO \n",
        "import re\n",
        "\n",
        "# Tables\n",
        "EMPLOYEE = pd.read_csv(StringIO(EMPLOYEE_csv))\n",
        "DEPARTMENT = pd.read_csv(StringIO(DEPARTMENT_csv))\n",
        "DEPT_LOCATIONS = pd.read_csv(StringIO(DEPT_LOCATIONS_csv))\n",
        "PROJECT = pd.read_csv(StringIO(PROJECT_csv))\n",
        "WORKS_ON = pd.read_csv(StringIO(WORKS_ON_csv))\n",
        "DEPENDENT = pd.read_csv(StringIO(DEPENDENT_csv))\n",
        "\n",
        "# short_names for Tables\n",
        "E = EMPLOYEE\n",
        "D = DEPARTMENT\n",
        "DL = DEPT_LOCATIONS\n",
        "P = PROJECT\n",
        "WO = WORKS_ON\n",
        "DE = DEPENDENT\n",
        "\n",
        "def rename(R, C):\n",
        "    return R.rename(columns=C)\n",
        "\n",
        "def select(R, C):\n",
        "    # The following substitution may NOT work \n",
        "    # when column name is equal to a string value in C\n",
        "    tokens = re.split(r'(\\W+)', C)\n",
        "    new_tokens = [\"R.\" + token  if token in R.columns else token \\\n",
        "                  for token in tokens] \n",
        "    selected = eval(''.join(new_tokens))\n",
        "    return R[selected].reset_index(drop=True)\n",
        "\n",
        "def project(R, C):\n",
        "    return R[C].drop_duplicates().reset_index(drop=True)\n",
        "\n",
        "def union(R, S):\n",
        "    S.columns = R.columns\n",
        "    T = pd.concat([R, S], ignore_index=True)\n",
        "    T = T.drop_duplicates().reset_index(drop=True)\n",
        "    return T\n",
        "\n",
        "def intersect(R, S):\n",
        "    S.columns = R.columns\n",
        "    return R.merge(S).reset_index(drop=True)\n",
        "\n",
        "def minus(R, S):\n",
        "    S.columns = R.columns\n",
        "    return pd.concat([R, S, S]).drop_duplicates(keep=False).reset_index(drop=True)\n",
        "\n",
        "def product(R, S):\n",
        "    \"\"\"Determine Cartesian product of two data frames.\"\"\"\n",
        "    key = 'key'\n",
        "    while key in R.columns or key in S.columns:\n",
        "        key = '_' + key\n",
        "    key_d = {key: 0}\n",
        "    return pd.merge(R.assign(**key_d), S.assign(**key_d), on=key)\\\n",
        "           .drop(key, axis=1).reset_index(drop=True)\n",
        "\n",
        "def natural_join(R, S):\n",
        "    return pd.merge(R, S).reset_index(drop=True)\n",
        "\n",
        "def natural_join2(R, S, keys_R, keys_S):\n",
        "    return pd.merge(R, S, left_on=keys_R, right_on=keys_S)\\\n",
        "           .drop(keys_S, axis=1).reset_index(drop=True)\n",
        "\n",
        "def division(R, S):\n",
        "    Z = set(R.columns)\n",
        "    X = set(S.columns)\n",
        "    assert X <= Z\n",
        "    Y = pd.Index(Z - X)\n",
        "    T1 = project(R, Y)\n",
        "    T2 = project(minus(product(T1, S), R), Y)\n",
        "    T = minus(T1, T2)\n",
        "    return T.reset_index(drop=True)"
      ],
      "execution_count": null,
      "outputs": []
    },
    {
      "cell_type": "markdown",
      "metadata": {
        "id": "RY34liT1IZVc"
      },
      "source": [
        "## <font color='red'>Query Statement에 나타나지 않은 상수(값)을 사용하면 무조건 0점 처리됨. 예를 들어, Query 1에서 \"Research\"라는 상수값만 나타나야 함</font>\n",
        "\n",
        "## 각 질의당 10점"
      ]
    },
    {
      "cell_type": "markdown",
      "metadata": {
        "id": "bvqscDfzIZVe"
      },
      "source": [
        "### Query 1: Retrieve the last name, first name, and address of employees who work for the \"Research\" department. (Use cartesian product. Do NOT use join)"
      ]
    },
    {
      "cell_type": "code",
      "metadata": {
        "scrolled": true,
        "colab": {
          "base_uri": "https://localhost:8080/",
          "height": 172
        },
        "id": "PULsyrWUIZVf",
        "outputId": "2303e831-ded1-4970-8d90-d4ce50a16947"
      },
      "source": [
        "# YOUR CODE HERE\n",
        "\n",
        "T = select(D, \"Dname=='Research'\")\n",
        "U = select(product(E, T), \"Dno==Dnumber\")\n",
        "project(U, ['Lname', 'Fname', 'Address'])"
      ],
      "execution_count": null,
      "outputs": [
        {
          "output_type": "execute_result",
          "data": {
            "text/html": [
              "<div>\n",
              "<style scoped>\n",
              "    .dataframe tbody tr th:only-of-type {\n",
              "        vertical-align: middle;\n",
              "    }\n",
              "\n",
              "    .dataframe tbody tr th {\n",
              "        vertical-align: top;\n",
              "    }\n",
              "\n",
              "    .dataframe thead th {\n",
              "        text-align: right;\n",
              "    }\n",
              "</style>\n",
              "<table border=\"1\" class=\"dataframe\">\n",
              "  <thead>\n",
              "    <tr style=\"text-align: right;\">\n",
              "      <th></th>\n",
              "      <th>Lname</th>\n",
              "      <th>Fname</th>\n",
              "      <th>Address</th>\n",
              "    </tr>\n",
              "  </thead>\n",
              "  <tbody>\n",
              "    <tr>\n",
              "      <th>0</th>\n",
              "      <td>Smith</td>\n",
              "      <td>John</td>\n",
              "      <td>731-Fondren-Houston-TX</td>\n",
              "    </tr>\n",
              "    <tr>\n",
              "      <th>1</th>\n",
              "      <td>Wong</td>\n",
              "      <td>Franklin</td>\n",
              "      <td>638-Voss-Houston-TX</td>\n",
              "    </tr>\n",
              "    <tr>\n",
              "      <th>2</th>\n",
              "      <td>English</td>\n",
              "      <td>Joyce</td>\n",
              "      <td>5631-Rice-Houston-TX</td>\n",
              "    </tr>\n",
              "    <tr>\n",
              "      <th>3</th>\n",
              "      <td>Narayan</td>\n",
              "      <td>Ramesh</td>\n",
              "      <td>975-Fire-Oak-Humble-TX</td>\n",
              "    </tr>\n",
              "  </tbody>\n",
              "</table>\n",
              "</div>"
            ],
            "text/plain": [
              "     Lname     Fname                 Address\n",
              "0    Smith      John  731-Fondren-Houston-TX\n",
              "1     Wong  Franklin     638-Voss-Houston-TX\n",
              "2  English     Joyce    5631-Rice-Houston-TX\n",
              "3  Narayan    Ramesh  975-Fire-Oak-Humble-TX"
            ]
          },
          "metadata": {},
          "execution_count": 75
        }
      ]
    },
    {
      "cell_type": "markdown",
      "metadata": {
        "id": "wjoxbP3UIZVg"
      },
      "source": [
        "### Query 2: Retrieve the last name, first name, and address of employees who work for the \"Research\" department. (Do NOT use cartesian product. Use natural join)"
      ]
    },
    {
      "cell_type": "code",
      "metadata": {
        "id": "xKVLmUuYIZVh",
        "colab": {
          "base_uri": "https://localhost:8080/",
          "height": 172
        },
        "outputId": "d37f4b9e-9c91-4289-bae5-4b51b2cc6711"
      },
      "source": [
        "# YOUR CODE HERE\n",
        "\n",
        "department=project(select(D, \"Dname=='Research'\"), ['Dnumber']) \n",
        "\n",
        "E_list=rename(E,{'Dno':'Dnumber'}) #자연조인을 위해 attribute일치화\n",
        "merged=natural_join(E_list,department_name)\n",
        "\n",
        "project(select(merged, \"Dname=='Research'\"), ['Lname','Fname','Address'])\n",
        "\n",
        "\n"
      ],
      "execution_count": null,
      "outputs": [
        {
          "output_type": "execute_result",
          "data": {
            "text/html": [
              "<div>\n",
              "<style scoped>\n",
              "    .dataframe tbody tr th:only-of-type {\n",
              "        vertical-align: middle;\n",
              "    }\n",
              "\n",
              "    .dataframe tbody tr th {\n",
              "        vertical-align: top;\n",
              "    }\n",
              "\n",
              "    .dataframe thead th {\n",
              "        text-align: right;\n",
              "    }\n",
              "</style>\n",
              "<table border=\"1\" class=\"dataframe\">\n",
              "  <thead>\n",
              "    <tr style=\"text-align: right;\">\n",
              "      <th></th>\n",
              "      <th>Lname</th>\n",
              "      <th>Fname</th>\n",
              "      <th>Address</th>\n",
              "    </tr>\n",
              "  </thead>\n",
              "  <tbody>\n",
              "    <tr>\n",
              "      <th>0</th>\n",
              "      <td>Smith</td>\n",
              "      <td>John</td>\n",
              "      <td>731-Fondren-Houston-TX</td>\n",
              "    </tr>\n",
              "    <tr>\n",
              "      <th>1</th>\n",
              "      <td>Wong</td>\n",
              "      <td>Franklin</td>\n",
              "      <td>638-Voss-Houston-TX</td>\n",
              "    </tr>\n",
              "    <tr>\n",
              "      <th>2</th>\n",
              "      <td>English</td>\n",
              "      <td>Joyce</td>\n",
              "      <td>5631-Rice-Houston-TX</td>\n",
              "    </tr>\n",
              "    <tr>\n",
              "      <th>3</th>\n",
              "      <td>Narayan</td>\n",
              "      <td>Ramesh</td>\n",
              "      <td>975-Fire-Oak-Humble-TX</td>\n",
              "    </tr>\n",
              "  </tbody>\n",
              "</table>\n",
              "</div>"
            ],
            "text/plain": [
              "     Lname     Fname                 Address\n",
              "0    Smith      John  731-Fondren-Houston-TX\n",
              "1     Wong  Franklin     638-Voss-Houston-TX\n",
              "2  English     Joyce    5631-Rice-Houston-TX\n",
              "3  Narayan    Ramesh  975-Fire-Oak-Humble-TX"
            ]
          },
          "metadata": {},
          "execution_count": 76
        }
      ]
    },
    {
      "cell_type": "markdown",
      "metadata": {
        "id": "d2R3DCXtIZVi"
      },
      "source": [
        "### Query 3: For every project located in \"Stafford\", list the project name, the controlling department name, and the department manager's last name, first name. (Use natural_join2, No cartesian products and natural joins are allowed)"
      ]
    },
    {
      "cell_type": "code",
      "metadata": {
        "id": "3tHCv8szIZVi",
        "colab": {
          "base_uri": "https://localhost:8080/",
          "height": 110
        },
        "outputId": "0dc572c0-4b5e-42a3-8eae-1ef1546e5aa9"
      },
      "source": [
        "# YOUR CODE HERE\n",
        "\n",
        "dnum_location=project(select(DL, \"Dlocation=='Stafford'\"), [\"Dnumber\"])\n",
        "# print(dnum_location)\n",
        "re_D=rename(D,{'Dnumber':'Dno'})\n",
        "\n",
        "merge_D=natural_join2(re_D,dnum_location,['Dno'],['Dnumber'])\n",
        "merge_P=natural_join2(dnum_location,P,['Dnumber'],['Dnum'])\n",
        "\n",
        "merge_DP=natural_join2(merge_D,merge_P,['Dno'],['Dnumber'])\n",
        "# print(merge_DP)\n",
        "\n",
        "merge_E=natural_join2(merge_DP, E, ['Mgrssn'],['Ssn'])\n",
        "# print(merge_E)\n",
        "\n",
        "project(merge_E, ['Pname','Dname','Fname','Lname'])\n"
      ],
      "execution_count": null,
      "outputs": [
        {
          "output_type": "execute_result",
          "data": {
            "text/html": [
              "<div>\n",
              "<style scoped>\n",
              "    .dataframe tbody tr th:only-of-type {\n",
              "        vertical-align: middle;\n",
              "    }\n",
              "\n",
              "    .dataframe tbody tr th {\n",
              "        vertical-align: top;\n",
              "    }\n",
              "\n",
              "    .dataframe thead th {\n",
              "        text-align: right;\n",
              "    }\n",
              "</style>\n",
              "<table border=\"1\" class=\"dataframe\">\n",
              "  <thead>\n",
              "    <tr style=\"text-align: right;\">\n",
              "      <th></th>\n",
              "      <th>Pname</th>\n",
              "      <th>Dname</th>\n",
              "      <th>Fname</th>\n",
              "      <th>Lname</th>\n",
              "    </tr>\n",
              "  </thead>\n",
              "  <tbody>\n",
              "    <tr>\n",
              "      <th>0</th>\n",
              "      <td>Computerization</td>\n",
              "      <td>Administration</td>\n",
              "      <td>Jennifer</td>\n",
              "      <td>Wallace</td>\n",
              "    </tr>\n",
              "    <tr>\n",
              "      <th>1</th>\n",
              "      <td>Newbenefits</td>\n",
              "      <td>Administration</td>\n",
              "      <td>Jennifer</td>\n",
              "      <td>Wallace</td>\n",
              "    </tr>\n",
              "  </tbody>\n",
              "</table>\n",
              "</div>"
            ],
            "text/plain": [
              "             Pname           Dname     Fname    Lname\n",
              "0  Computerization  Administration  Jennifer  Wallace\n",
              "1      Newbenefits  Administration  Jennifer  Wallace"
            ]
          },
          "metadata": {},
          "execution_count": 77
        }
      ]
    },
    {
      "cell_type": "markdown",
      "metadata": {
        "id": "w4lmJeg7IZVj"
      },
      "source": [
        "### Query 4: Find the last name, first name of employees who work on all the projects controlled by department number 4."
      ]
    },
    {
      "cell_type": "code",
      "metadata": {
        "id": "EC11J2duIZVj",
        "colab": {
          "base_uri": "https://localhost:8080/",
          "height": 110
        },
        "outputId": "06409240-69da-41e6-d77f-90edf7a556e3"
      },
      "source": [
        "# YOUR CODE HERE\n",
        "\n",
        "WO_essn_pno= project(WO, ['Essn', 'Pno'])\n",
        "\n",
        "P_dnum = project(select(P, 'Dnum==4'), ['Pnumber'])\n",
        "P_dnum_re = rename(P_dnum, {'Pnumber':'Pno'})\n",
        "\n",
        "Department4_essn = division(WO_essn_pno, P_dnum_re)\n",
        "# print(Department4_essn)\n",
        "Department4 = natural_join2(E , Department4_essn, 'Ssn' , 'Essn')\n",
        "project(Department4, ['Lname', 'Fname'])\n"
      ],
      "execution_count": null,
      "outputs": [
        {
          "output_type": "execute_result",
          "data": {
            "text/html": [
              "<div>\n",
              "<style scoped>\n",
              "    .dataframe tbody tr th:only-of-type {\n",
              "        vertical-align: middle;\n",
              "    }\n",
              "\n",
              "    .dataframe tbody tr th {\n",
              "        vertical-align: top;\n",
              "    }\n",
              "\n",
              "    .dataframe thead th {\n",
              "        text-align: right;\n",
              "    }\n",
              "</style>\n",
              "<table border=\"1\" class=\"dataframe\">\n",
              "  <thead>\n",
              "    <tr style=\"text-align: right;\">\n",
              "      <th></th>\n",
              "      <th>Lname</th>\n",
              "      <th>Fname</th>\n",
              "    </tr>\n",
              "  </thead>\n",
              "  <tbody>\n",
              "    <tr>\n",
              "      <th>0</th>\n",
              "      <td>Jabbar</td>\n",
              "      <td>Ahmad</td>\n",
              "    </tr>\n",
              "    <tr>\n",
              "      <th>1</th>\n",
              "      <td>Zelaya</td>\n",
              "      <td>Alicia</td>\n",
              "    </tr>\n",
              "  </tbody>\n",
              "</table>\n",
              "</div>"
            ],
            "text/plain": [
              "    Lname   Fname\n",
              "0  Jabbar   Ahmad\n",
              "1  Zelaya  Alicia"
            ]
          },
          "metadata": {},
          "execution_count": 78
        }
      ]
    },
    {
      "cell_type": "markdown",
      "metadata": {
        "id": "eAya-MmTIZVk"
      },
      "source": [
        "### Query 5: Make a list of project names for projects that involve an employee whose last name is \"Wallace\", either as a worker or as a manager of the department that controls the project."
      ]
    },
    {
      "cell_type": "code",
      "metadata": {
        "id": "EOvxTqBwIZVk",
        "colab": {
          "base_uri": "https://localhost:8080/",
          "height": 110
        },
        "outputId": "fbc0517e-92c5-4b54-e012-74e785b8fbd2"
      },
      "source": [
        "# YOUR CODE HERE\n",
        "\n",
        "#E에서 Wallce의 부서 반환\n",
        "find_W=select(E,\"Lname=='Wallace'\")\n",
        "find_Dno=project(find_W,['Dno'])\n",
        "\n",
        "#find_Dno와 P 결합\n",
        "DP=natural_join2(find_Dno, P, ['Dno'],['Dnum'])\n",
        "\n",
        "project(DP, ['Pname'])\n",
        "\n"
      ],
      "execution_count": null,
      "outputs": [
        {
          "output_type": "execute_result",
          "data": {
            "text/html": [
              "<div>\n",
              "<style scoped>\n",
              "    .dataframe tbody tr th:only-of-type {\n",
              "        vertical-align: middle;\n",
              "    }\n",
              "\n",
              "    .dataframe tbody tr th {\n",
              "        vertical-align: top;\n",
              "    }\n",
              "\n",
              "    .dataframe thead th {\n",
              "        text-align: right;\n",
              "    }\n",
              "</style>\n",
              "<table border=\"1\" class=\"dataframe\">\n",
              "  <thead>\n",
              "    <tr style=\"text-align: right;\">\n",
              "      <th></th>\n",
              "      <th>Pname</th>\n",
              "    </tr>\n",
              "  </thead>\n",
              "  <tbody>\n",
              "    <tr>\n",
              "      <th>0</th>\n",
              "      <td>Computerization</td>\n",
              "    </tr>\n",
              "    <tr>\n",
              "      <th>1</th>\n",
              "      <td>Newbenefits</td>\n",
              "    </tr>\n",
              "  </tbody>\n",
              "</table>\n",
              "</div>"
            ],
            "text/plain": [
              "             Pname\n",
              "0  Computerization\n",
              "1      Newbenefits"
            ]
          },
          "metadata": {},
          "execution_count": 79
        }
      ]
    },
    {
      "cell_type": "markdown",
      "metadata": {
        "id": "ViYjR0tyIZVk"
      },
      "source": [
        "### Query 6: List the last name, first name of all employees with two or more dependents. (Do NOT use aggregate operator)"
      ]
    },
    {
      "cell_type": "code",
      "metadata": {
        "id": "UG7tyFZ3IZVl",
        "colab": {
          "base_uri": "https://localhost:8080/"
        },
        "outputId": "b1f74205-d473-4f4f-c824-51b408087115"
      },
      "source": [
        "# YOUR CODE HERE\n",
        "\n",
        "# 교수님 죄송합니다. \n",
        "\n",
        "\n",
        "#DE에서 부양가족이 2명 이상인 직원의 ESSN반환\n",
        "E_DE=natural_join2(E,DE,['Ssn'],['Essn'])\n",
        "print(E_DE)\n",
        "\n",
        "\n",
        "\n",
        "#두가지 조건을 모두 적용하게 되면, 두 조건 모두를 만족하는 값을 조회하므로, 인덱스 안에 값이 없게 된다.\n",
        "# E_list1=select(E_DE, \"(Relationship == 'Daughter') & (Relationship == 'Spouse')\")\n",
        "# E_list2=select(E_DE, \"(Relationship == 'Daughter') & (Relationship =='Son')\")\n",
        "# E_list3=select(E_DE, \"(Relationship == 'Son') & (Relationship=='Spouse')\")\n",
        "\n",
        "# print(E_list1)\n",
        "# print(E_list2)\n",
        "# print(E_list3)\n",
        "# project(E_list, ['Lname', 'Fname'] )\n",
        "\n",
        "\n",
        "\n",
        "#위에서 반환한 목록과 E의 병합 후 연산결과 반환\n",
        "# tmp=[]\n",
        "# check=E_DE.Lname[0]\n",
        "# tmp_check=0\n",
        "# for i in range(1,len(E_DE)):\n",
        "#   if check==E_DE.Lname[i]:\n",
        "#     if tmp==None:\n",
        "#       tmp.append(str(E_DE.Lname[i]))\n",
        "#     if tmp!=None and tmp[tmp_check] != check:\n",
        "#       tmp.append(str(E_DE.Lname[i]))\n",
        "#       tmp_check+=1\n",
        "#   check=E_DE.Lname[i]\n",
        "# print(tmp)\n",
        "\n"
      ],
      "execution_count": null,
      "outputs": [
        {
          "output_type": "stream",
          "name": "stdout",
          "text": [
            "      Fname Minit    Lname  ...  Sex_y     Bdate_y Relationship\n",
            "0      John     B    Smith  ...      F  1988-12-30     Daughter\n",
            "1      John     B    Smith  ...      F  1967-05-05       Spouse\n",
            "2      John     B    Smith  ...      M  1988-01-04          Son\n",
            "3  Franklin     T     Wong  ...      F  1986-04-05     Daughter\n",
            "4  Franklin     T     Wong  ...      F  1958-05-03       Spouse\n",
            "5  Franklin     T     Wong  ...      M  1983-10-25          Son\n",
            "6  Jennifer     S  Wallace  ...      M  1942-02-28       Spouse\n",
            "\n",
            "[7 rows x 14 columns]\n"
          ]
        }
      ]
    },
    {
      "cell_type": "markdown",
      "metadata": {
        "id": "QED83tc9IZVl"
      },
      "source": [
        "### Query 7: Retrieve the last name, first name of employees who have no dependents."
      ]
    },
    {
      "cell_type": "code",
      "metadata": {
        "id": "g7D4ecotIZVl",
        "colab": {
          "base_uri": "https://localhost:8080/",
          "height": 203
        },
        "outputId": "341ea874-ce3d-454f-f85e-a2772bdd516c"
      },
      "source": [
        "# YOUR CODE HERE\n",
        "\n",
        "DE_essn=project(DE, ['Essn'])\n",
        "E_ssn=project(E,['Ssn'])\n",
        "has_dependents=minus(E_ssn,DE_essn)\n",
        "#print(has_dependents)\n",
        "#print(product(E,has_dependents))\n",
        "U=select(product(E,has_dependents),\"Ssn_x==Ssn_y\") \n",
        "project(U, ['Fname', 'Lname'])"
      ],
      "execution_count": null,
      "outputs": [
        {
          "output_type": "execute_result",
          "data": {
            "text/html": [
              "<div>\n",
              "<style scoped>\n",
              "    .dataframe tbody tr th:only-of-type {\n",
              "        vertical-align: middle;\n",
              "    }\n",
              "\n",
              "    .dataframe tbody tr th {\n",
              "        vertical-align: top;\n",
              "    }\n",
              "\n",
              "    .dataframe thead th {\n",
              "        text-align: right;\n",
              "    }\n",
              "</style>\n",
              "<table border=\"1\" class=\"dataframe\">\n",
              "  <thead>\n",
              "    <tr style=\"text-align: right;\">\n",
              "      <th></th>\n",
              "      <th>Fname</th>\n",
              "      <th>Lname</th>\n",
              "    </tr>\n",
              "  </thead>\n",
              "  <tbody>\n",
              "    <tr>\n",
              "      <th>0</th>\n",
              "      <td>Joyce</td>\n",
              "      <td>English</td>\n",
              "    </tr>\n",
              "    <tr>\n",
              "      <th>1</th>\n",
              "      <td>Ramesh</td>\n",
              "      <td>Narayan</td>\n",
              "    </tr>\n",
              "    <tr>\n",
              "      <th>2</th>\n",
              "      <td>James</td>\n",
              "      <td>Borg</td>\n",
              "    </tr>\n",
              "    <tr>\n",
              "      <th>3</th>\n",
              "      <td>Ahmad</td>\n",
              "      <td>Jabbar</td>\n",
              "    </tr>\n",
              "    <tr>\n",
              "      <th>4</th>\n",
              "      <td>Alicia</td>\n",
              "      <td>Zelaya</td>\n",
              "    </tr>\n",
              "  </tbody>\n",
              "</table>\n",
              "</div>"
            ],
            "text/plain": [
              "    Fname    Lname\n",
              "0   Joyce  English\n",
              "1  Ramesh  Narayan\n",
              "2   James     Borg\n",
              "3   Ahmad   Jabbar\n",
              "4  Alicia   Zelaya"
            ]
          },
          "metadata": {},
          "execution_count": 81
        }
      ]
    },
    {
      "cell_type": "markdown",
      "metadata": {
        "id": "LFLDu0JvIZVm"
      },
      "source": [
        "### Query 8: List the last name, first name of managers who have at least one dependent."
      ]
    },
    {
      "cell_type": "code",
      "metadata": {
        "id": "RUKq9DFDIZVm",
        "colab": {
          "base_uri": "https://localhost:8080/",
          "height": 142
        },
        "outputId": "5b50ae34-c1fb-4a0d-b787-1894fc747948"
      },
      "source": [
        "# YOUR CODE HERE\n",
        "\n",
        "DE_essn = project(DE, ['Essn']) #DE에 명단이 오른 essn조사\n",
        "\n",
        "has_dependents = select(product(DE_essn,E), \"Essn==Ssn\")\n",
        "project(has_dependents, ['Lname', \"Fname\"])"
      ],
      "execution_count": null,
      "outputs": [
        {
          "output_type": "execute_result",
          "data": {
            "text/html": [
              "<div>\n",
              "<style scoped>\n",
              "    .dataframe tbody tr th:only-of-type {\n",
              "        vertical-align: middle;\n",
              "    }\n",
              "\n",
              "    .dataframe tbody tr th {\n",
              "        vertical-align: top;\n",
              "    }\n",
              "\n",
              "    .dataframe thead th {\n",
              "        text-align: right;\n",
              "    }\n",
              "</style>\n",
              "<table border=\"1\" class=\"dataframe\">\n",
              "  <thead>\n",
              "    <tr style=\"text-align: right;\">\n",
              "      <th></th>\n",
              "      <th>Lname</th>\n",
              "      <th>Fname</th>\n",
              "    </tr>\n",
              "  </thead>\n",
              "  <tbody>\n",
              "    <tr>\n",
              "      <th>0</th>\n",
              "      <td>Smith</td>\n",
              "      <td>John</td>\n",
              "    </tr>\n",
              "    <tr>\n",
              "      <th>1</th>\n",
              "      <td>Wong</td>\n",
              "      <td>Franklin</td>\n",
              "    </tr>\n",
              "    <tr>\n",
              "      <th>2</th>\n",
              "      <td>Wallace</td>\n",
              "      <td>Jennifer</td>\n",
              "    </tr>\n",
              "  </tbody>\n",
              "</table>\n",
              "</div>"
            ],
            "text/plain": [
              "     Lname     Fname\n",
              "0    Smith      John\n",
              "1     Wong  Franklin\n",
              "2  Wallace  Jennifer"
            ]
          },
          "metadata": {},
          "execution_count": 82
        }
      ]
    },
    {
      "cell_type": "markdown",
      "metadata": {
        "id": "KsYeS_CKIZVn"
      },
      "source": [
        "### Query 9: Retrieve the last name, first name of all employees in department 5 who work more than 10 hours per week on the ProductX project."
      ]
    },
    {
      "cell_type": "code",
      "metadata": {
        "id": "4duIw3iDIZVo",
        "colab": {
          "base_uri": "https://localhost:8080/",
          "height": 110
        },
        "outputId": "8177612d-cf0d-4446-ad2c-18ed8cfa5963"
      },
      "source": [
        "# YOUR CODE HERE\n",
        "\n",
        "ProductX_Pname = select(P, \"Pname=='ProductX'\")\n",
        "ProductX_list=select(product(WO, ProductX_Pname), \"Pno == Pnumber\")\n",
        "\n",
        "More_10H=select(ProductX_list, \"Hours >= 10\")\n",
        "# print(More_10H)\n",
        "Department5=select(D, \"Dnumber == 5\")\n",
        "# print(Department5)\n",
        "\n",
        "Mgr=select(product(Department5,E), \"Mgrssn == Superssn\")\n",
        "# print(Mgr)\n",
        "result=select(product(More_10H,Mgr), \"Essn==Ssn\")\n",
        "project(result, ['Lname','Fname'])"
      ],
      "execution_count": null,
      "outputs": [
        {
          "output_type": "execute_result",
          "data": {
            "text/html": [
              "<div>\n",
              "<style scoped>\n",
              "    .dataframe tbody tr th:only-of-type {\n",
              "        vertical-align: middle;\n",
              "    }\n",
              "\n",
              "    .dataframe tbody tr th {\n",
              "        vertical-align: top;\n",
              "    }\n",
              "\n",
              "    .dataframe thead th {\n",
              "        text-align: right;\n",
              "    }\n",
              "</style>\n",
              "<table border=\"1\" class=\"dataframe\">\n",
              "  <thead>\n",
              "    <tr style=\"text-align: right;\">\n",
              "      <th></th>\n",
              "      <th>Lname</th>\n",
              "      <th>Fname</th>\n",
              "    </tr>\n",
              "  </thead>\n",
              "  <tbody>\n",
              "    <tr>\n",
              "      <th>0</th>\n",
              "      <td>Smith</td>\n",
              "      <td>John</td>\n",
              "    </tr>\n",
              "    <tr>\n",
              "      <th>1</th>\n",
              "      <td>English</td>\n",
              "      <td>Joyce</td>\n",
              "    </tr>\n",
              "  </tbody>\n",
              "</table>\n",
              "</div>"
            ],
            "text/plain": [
              "     Lname  Fname\n",
              "0    Smith   John\n",
              "1  English  Joyce"
            ]
          },
          "metadata": {},
          "execution_count": 83
        }
      ]
    },
    {
      "cell_type": "markdown",
      "metadata": {
        "id": "2Cui0D28IZVo"
      },
      "source": [
        "### Query 10: Retrieve the last name, first name of all employees who is supervised by James Borg"
      ]
    },
    {
      "cell_type": "code",
      "metadata": {
        "id": "b5qqnSkxIZVo",
        "colab": {
          "base_uri": "https://localhost:8080/",
          "height": 110
        },
        "outputId": "19fd5f53-4c4e-4049-858e-f6adf2459448"
      },
      "source": [
        "# YOUR CODE HERE\n",
        "\n",
        "Superssn_E=select(E, \"Fname=='James'\"and \"Lname=='Borg'\")\n",
        "# print(product(E, Superssn_E))\n",
        "result=select(product(E,Superssn_E), \"Ssn_y==Superssn_x\")\n",
        "# print(U)\n",
        "project(result, ['Fname_x', 'Lname_x'])"
      ],
      "execution_count": null,
      "outputs": [
        {
          "output_type": "execute_result",
          "data": {
            "text/html": [
              "<div>\n",
              "<style scoped>\n",
              "    .dataframe tbody tr th:only-of-type {\n",
              "        vertical-align: middle;\n",
              "    }\n",
              "\n",
              "    .dataframe tbody tr th {\n",
              "        vertical-align: top;\n",
              "    }\n",
              "\n",
              "    .dataframe thead th {\n",
              "        text-align: right;\n",
              "    }\n",
              "</style>\n",
              "<table border=\"1\" class=\"dataframe\">\n",
              "  <thead>\n",
              "    <tr style=\"text-align: right;\">\n",
              "      <th></th>\n",
              "      <th>Fname_x</th>\n",
              "      <th>Lname_x</th>\n",
              "    </tr>\n",
              "  </thead>\n",
              "  <tbody>\n",
              "    <tr>\n",
              "      <th>0</th>\n",
              "      <td>Franklin</td>\n",
              "      <td>Wong</td>\n",
              "    </tr>\n",
              "    <tr>\n",
              "      <th>1</th>\n",
              "      <td>Jennifer</td>\n",
              "      <td>Wallace</td>\n",
              "    </tr>\n",
              "  </tbody>\n",
              "</table>\n",
              "</div>"
            ],
            "text/plain": [
              "    Fname_x  Lname_x\n",
              "0  Franklin     Wong\n",
              "1  Jennifer  Wallace"
            ]
          },
          "metadata": {},
          "execution_count": 84
        }
      ]
    }
  ]
}